{
  "nbformat": 4,
  "nbformat_minor": 0,
  "metadata": {
    "colab": {
      "provenance": [],
      "include_colab_link": true
    },
    "kernelspec": {
      "name": "python3",
      "display_name": "Python 3"
    },
    "language_info": {
      "name": "python"
    }
  },
  "cells": [
    {
      "cell_type": "markdown",
      "metadata": {
        "id": "view-in-github",
        "colab_type": "text"
      },
      "source": [
        "<a href=\"https://colab.research.google.com/github/SyahfiRizqi05/datamaining2/blob/main/Syahfi_Rizqi_2209116093.ipynb\" target=\"_parent\"><img src=\"https://colab.research.google.com/assets/colab-badge.svg\" alt=\"Open In Colab\"/></a>"
      ]
    },
    {
      "cell_type": "markdown",
      "source": [
        "# **IPL Complete Dataset (2008-2020)**"
      ],
      "metadata": {
        "id": "h3AZjxo2ZxS6"
      }
    },
    {
      "cell_type": "markdown",
      "source": [
        "#**Import Library**"
      ],
      "metadata": {
        "id": "JNBmfbIjWxgM"
      }
    },
    {
      "cell_type": "code",
      "source": [
        "import seaborn as sns\n",
        "import matplotlib.pyplot as plt\n",
        "import plotly.express as px\n",
        "import pandas as pd\n",
        "import numpy as np"
      ],
      "metadata": {
        "id": "JsnHJGLtW06a"
      },
      "execution_count": null,
      "outputs": []
    },
    {
      "cell_type": "markdown",
      "source": [
        "#**BUSINESS UNDERSTANDING**"
      ],
      "metadata": {
        "id": "NjuQhrNyZtm3"
      }
    },
    {
      "cell_type": "markdown",
      "source": [
        "##**Business Objective**"
      ],
      "metadata": {
        "id": "qzSZy2KwZ4zx"
      }
    },
    {
      "cell_type": "markdown",
      "source": [
        "Tujuan bisnis dari proyek ini adalah untuk mengoptimalkan strategi dan kinerja tim dalam Indian Premier League (IPL) menggunakan data yang tersedia dalam IPL Complete Dataset. Hal ini mencakup identifikasi pola, tren, dan faktor-faktor kunci yang mempengaruhi hasil pertandingan, serta pengembangan strategi yang lebih efektif untuk mencapai kesuksesan dalam turnamen"
      ],
      "metadata": {
        "id": "hU2-bH_KZ8Ge"
      }
    },
    {
      "cell_type": "markdown",
      "source": [
        "##**Assess Situation**"
      ],
      "metadata": {
        "id": "3dTYY-qjZ_Yz"
      }
    },
    {
      "cell_type": "markdown",
      "source": [
        "IPL merupakan salah satu turnamen kriket paling bergengsi di dunia yang menarik minat global. Namun, kinerja tim dapat dipengaruhi oleh berbagai faktor seperti komposisi tim, kondisi lapangan, keputusan taktis, dan performa individu pemain. Dengan IPL Complete Dataset, kami memiliki akses ke informasi lengkap tentang setiap pertandingan, pemain, dan detail ball-by-ball, yang memungkinkan kami untuk melakukan analisis mendalam terhadap kinerja tim dan faktor-faktor yang memengaruhi hasil pertandingan"
      ],
      "metadata": {
        "id": "3mI7ZTjDaGnC"
      }
    },
    {
      "cell_type": "markdown",
      "source": [
        "##**Data Mining Goals**"
      ],
      "metadata": {
        "id": "Tqvpt5r-aJKs"
      }
    },
    {
      "cell_type": "markdown",
      "source": [
        "Tujuan dari analisis data ini adalah:\n",
        "Mengidentifikasi pola dan tren dalam hasil pertandingan IPL.\n",
        "Menganalisis kinerja individu dan tim secara statistik.\n",
        "Membangun model prediksi untuk hasil pertandingan IPL.\n",
        "Mengidentifikasi faktor-faktor kunci yang mempengaruhi hasil pertandingan.\n",
        "Membuat rekomendasi strategis untuk meningkatkan kinerja tim dalam IPL"
      ],
      "metadata": {
        "id": "GXsyNC0zaO-o"
      }
    },
    {
      "cell_type": "markdown",
      "source": [
        "##**Project Plan**"
      ],
      "metadata": {
        "id": "78Yvo7Q9aRTt"
      }
    },
    {
      "cell_type": "markdown",
      "source": [
        "Pengumpulan Data:\n",
        "Mengunduh atau memperoleh IPL Complete Dataset dari sumber yang dapat dipercaya seperti situs resmi IPL atau platform data olahraga terpercaya.\n",
        "\n",
        "Data Preprocessing:\n",
        "\n",
        "Memeriksa keberadaan nilai yang hilang atau tidak lengkap dalam dataset.\n",
        "Melakukan penggabungan data dari file CSV matches dan deliveries menjadi satu dataset yang komprehensif, menggunakan kunci unik seperti ID pertandingan.\n",
        "\n",
        "Analisis Kinerja Tim:\n",
        "\n",
        "Menganalisis kinerja tim selama berbagai musim IPL berdasarkan statistik seperti jumlah kemenangan, rata-rata run rate, dan keberhasilan di berbagai kondisi lapangan.\n",
        "Evaluasi kinerja tim dalam pertandingan kandang dan tandang, serta dalam pertandingan eliminasi.\n",
        "\n",
        "Penyebaran Hasil:\n",
        "\n",
        "Berbagi laporan dan temuan dengan pemangku kepentingan terkait, termasuk manajemen tim, pelatih, dan pemain.\n",
        "Menggunakan temuan untuk mendukung pengambilan keputusan strategis dalam persiapan untuk musim IPL berikutnya."
      ],
      "metadata": {
        "id": "H0uheBdyaUfH"
      }
    },
    {
      "cell_type": "markdown",
      "source": [
        "#**DATA UNDERSTANDING**"
      ],
      "metadata": {
        "id": "8yFrLpBtZXuy"
      }
    },
    {
      "cell_type": "markdown",
      "source": [
        "##**Collect Initial Data**"
      ],
      "metadata": {
        "id": "tjm5LzEuT0oe"
      }
    },
    {
      "cell_type": "markdown",
      "source": [
        "sumber data yang saya gunakan pada data understanding yaitu\n",
        " IPL Complete Dataset (2008-2020) yang saya dapat dari link berikut https://www.kaggle.com/datasets/patrickb1912/ipl-complete-dataset-20082020/code\n",
        "IPL adalah liga kriket profesional di India yang diadakan setiap tahun dan merupakan salah satu kompetisi kriket terbesar di dunia. Dataset ini mencakup berbagai informasi penting mengenai setiap pertandingan, seperti data pemain, hasil pertandingan, skor, statistik, dan banyak lagi."
      ],
      "metadata": {
        "id": "SsIGird1UBw8"
      }
    },
    {
      "cell_type": "code",
      "execution_count": null,
      "metadata": {
        "id": "3ncBfThxSpiL",
        "colab": {
          "base_uri": "https://localhost:8080/",
          "height": 399
        },
        "outputId": "c1204344-ff6f-4381-b595-e7445de5fcab"
      },
      "outputs": [
        {
          "output_type": "execute_result",
          "data": {
            "text/plain": [
              "       id  inning  over  ball      batsman  non_striker     bowler  \\\n",
              "0  335982       1     6     5   RT Ponting  BB McCullum  AA Noffke   \n",
              "1  335982       1     6     6  BB McCullum   RT Ponting  AA Noffke   \n",
              "2  335982       1     7     1  BB McCullum   RT Ponting     Z Khan   \n",
              "3  335982       1     7     2  BB McCullum   RT Ponting     Z Khan   \n",
              "4  335982       1     7     3   RT Ponting  BB McCullum     Z Khan   \n",
              "\n",
              "   batsman_runs  extra_runs  total_runs  non_boundary  is_wicket  \\\n",
              "0             1           0           1             0          0   \n",
              "1             1           0           1             0          0   \n",
              "2             0           0           0             0          0   \n",
              "3             1           0           1             0          0   \n",
              "4             1           0           1             0          0   \n",
              "\n",
              "  dismissal_kind player_dismissed fielder extras_type           batting_team  \\\n",
              "0            NaN              NaN     NaN         NaN  Kolkata Knight Riders   \n",
              "1            NaN              NaN     NaN         NaN  Kolkata Knight Riders   \n",
              "2            NaN              NaN     NaN         NaN  Kolkata Knight Riders   \n",
              "3            NaN              NaN     NaN         NaN  Kolkata Knight Riders   \n",
              "4            NaN              NaN     NaN         NaN  Kolkata Knight Riders   \n",
              "\n",
              "                  bowling_team  \n",
              "0  Royal Challengers Bangalore  \n",
              "1  Royal Challengers Bangalore  \n",
              "2  Royal Challengers Bangalore  \n",
              "3  Royal Challengers Bangalore  \n",
              "4  Royal Challengers Bangalore  "
            ],
            "text/html": [
              "\n",
              "  <div id=\"df-75c080ba-2ec9-44b9-9c3e-fc064c8d22da\" class=\"colab-df-container\">\n",
              "    <div>\n",
              "<style scoped>\n",
              "    .dataframe tbody tr th:only-of-type {\n",
              "        vertical-align: middle;\n",
              "    }\n",
              "\n",
              "    .dataframe tbody tr th {\n",
              "        vertical-align: top;\n",
              "    }\n",
              "\n",
              "    .dataframe thead th {\n",
              "        text-align: right;\n",
              "    }\n",
              "</style>\n",
              "<table border=\"1\" class=\"dataframe\">\n",
              "  <thead>\n",
              "    <tr style=\"text-align: right;\">\n",
              "      <th></th>\n",
              "      <th>id</th>\n",
              "      <th>inning</th>\n",
              "      <th>over</th>\n",
              "      <th>ball</th>\n",
              "      <th>batsman</th>\n",
              "      <th>non_striker</th>\n",
              "      <th>bowler</th>\n",
              "      <th>batsman_runs</th>\n",
              "      <th>extra_runs</th>\n",
              "      <th>total_runs</th>\n",
              "      <th>non_boundary</th>\n",
              "      <th>is_wicket</th>\n",
              "      <th>dismissal_kind</th>\n",
              "      <th>player_dismissed</th>\n",
              "      <th>fielder</th>\n",
              "      <th>extras_type</th>\n",
              "      <th>batting_team</th>\n",
              "      <th>bowling_team</th>\n",
              "    </tr>\n",
              "  </thead>\n",
              "  <tbody>\n",
              "    <tr>\n",
              "      <th>0</th>\n",
              "      <td>335982</td>\n",
              "      <td>1</td>\n",
              "      <td>6</td>\n",
              "      <td>5</td>\n",
              "      <td>RT Ponting</td>\n",
              "      <td>BB McCullum</td>\n",
              "      <td>AA Noffke</td>\n",
              "      <td>1</td>\n",
              "      <td>0</td>\n",
              "      <td>1</td>\n",
              "      <td>0</td>\n",
              "      <td>0</td>\n",
              "      <td>NaN</td>\n",
              "      <td>NaN</td>\n",
              "      <td>NaN</td>\n",
              "      <td>NaN</td>\n",
              "      <td>Kolkata Knight Riders</td>\n",
              "      <td>Royal Challengers Bangalore</td>\n",
              "    </tr>\n",
              "    <tr>\n",
              "      <th>1</th>\n",
              "      <td>335982</td>\n",
              "      <td>1</td>\n",
              "      <td>6</td>\n",
              "      <td>6</td>\n",
              "      <td>BB McCullum</td>\n",
              "      <td>RT Ponting</td>\n",
              "      <td>AA Noffke</td>\n",
              "      <td>1</td>\n",
              "      <td>0</td>\n",
              "      <td>1</td>\n",
              "      <td>0</td>\n",
              "      <td>0</td>\n",
              "      <td>NaN</td>\n",
              "      <td>NaN</td>\n",
              "      <td>NaN</td>\n",
              "      <td>NaN</td>\n",
              "      <td>Kolkata Knight Riders</td>\n",
              "      <td>Royal Challengers Bangalore</td>\n",
              "    </tr>\n",
              "    <tr>\n",
              "      <th>2</th>\n",
              "      <td>335982</td>\n",
              "      <td>1</td>\n",
              "      <td>7</td>\n",
              "      <td>1</td>\n",
              "      <td>BB McCullum</td>\n",
              "      <td>RT Ponting</td>\n",
              "      <td>Z Khan</td>\n",
              "      <td>0</td>\n",
              "      <td>0</td>\n",
              "      <td>0</td>\n",
              "      <td>0</td>\n",
              "      <td>0</td>\n",
              "      <td>NaN</td>\n",
              "      <td>NaN</td>\n",
              "      <td>NaN</td>\n",
              "      <td>NaN</td>\n",
              "      <td>Kolkata Knight Riders</td>\n",
              "      <td>Royal Challengers Bangalore</td>\n",
              "    </tr>\n",
              "    <tr>\n",
              "      <th>3</th>\n",
              "      <td>335982</td>\n",
              "      <td>1</td>\n",
              "      <td>7</td>\n",
              "      <td>2</td>\n",
              "      <td>BB McCullum</td>\n",
              "      <td>RT Ponting</td>\n",
              "      <td>Z Khan</td>\n",
              "      <td>1</td>\n",
              "      <td>0</td>\n",
              "      <td>1</td>\n",
              "      <td>0</td>\n",
              "      <td>0</td>\n",
              "      <td>NaN</td>\n",
              "      <td>NaN</td>\n",
              "      <td>NaN</td>\n",
              "      <td>NaN</td>\n",
              "      <td>Kolkata Knight Riders</td>\n",
              "      <td>Royal Challengers Bangalore</td>\n",
              "    </tr>\n",
              "    <tr>\n",
              "      <th>4</th>\n",
              "      <td>335982</td>\n",
              "      <td>1</td>\n",
              "      <td>7</td>\n",
              "      <td>3</td>\n",
              "      <td>RT Ponting</td>\n",
              "      <td>BB McCullum</td>\n",
              "      <td>Z Khan</td>\n",
              "      <td>1</td>\n",
              "      <td>0</td>\n",
              "      <td>1</td>\n",
              "      <td>0</td>\n",
              "      <td>0</td>\n",
              "      <td>NaN</td>\n",
              "      <td>NaN</td>\n",
              "      <td>NaN</td>\n",
              "      <td>NaN</td>\n",
              "      <td>Kolkata Knight Riders</td>\n",
              "      <td>Royal Challengers Bangalore</td>\n",
              "    </tr>\n",
              "  </tbody>\n",
              "</table>\n",
              "</div>\n",
              "    <div class=\"colab-df-buttons\">\n",
              "\n",
              "  <div class=\"colab-df-container\">\n",
              "    <button class=\"colab-df-convert\" onclick=\"convertToInteractive('df-75c080ba-2ec9-44b9-9c3e-fc064c8d22da')\"\n",
              "            title=\"Convert this dataframe to an interactive table.\"\n",
              "            style=\"display:none;\">\n",
              "\n",
              "  <svg xmlns=\"http://www.w3.org/2000/svg\" height=\"24px\" viewBox=\"0 -960 960 960\">\n",
              "    <path d=\"M120-120v-720h720v720H120Zm60-500h600v-160H180v160Zm220 220h160v-160H400v160Zm0 220h160v-160H400v160ZM180-400h160v-160H180v160Zm440 0h160v-160H620v160ZM180-180h160v-160H180v160Zm440 0h160v-160H620v160Z\"/>\n",
              "  </svg>\n",
              "    </button>\n",
              "\n",
              "  <style>\n",
              "    .colab-df-container {\n",
              "      display:flex;\n",
              "      gap: 12px;\n",
              "    }\n",
              "\n",
              "    .colab-df-convert {\n",
              "      background-color: #E8F0FE;\n",
              "      border: none;\n",
              "      border-radius: 50%;\n",
              "      cursor: pointer;\n",
              "      display: none;\n",
              "      fill: #1967D2;\n",
              "      height: 32px;\n",
              "      padding: 0 0 0 0;\n",
              "      width: 32px;\n",
              "    }\n",
              "\n",
              "    .colab-df-convert:hover {\n",
              "      background-color: #E2EBFA;\n",
              "      box-shadow: 0px 1px 2px rgba(60, 64, 67, 0.3), 0px 1px 3px 1px rgba(60, 64, 67, 0.15);\n",
              "      fill: #174EA6;\n",
              "    }\n",
              "\n",
              "    .colab-df-buttons div {\n",
              "      margin-bottom: 4px;\n",
              "    }\n",
              "\n",
              "    [theme=dark] .colab-df-convert {\n",
              "      background-color: #3B4455;\n",
              "      fill: #D2E3FC;\n",
              "    }\n",
              "\n",
              "    [theme=dark] .colab-df-convert:hover {\n",
              "      background-color: #434B5C;\n",
              "      box-shadow: 0px 1px 3px 1px rgba(0, 0, 0, 0.15);\n",
              "      filter: drop-shadow(0px 1px 2px rgba(0, 0, 0, 0.3));\n",
              "      fill: #FFFFFF;\n",
              "    }\n",
              "  </style>\n",
              "\n",
              "    <script>\n",
              "      const buttonEl =\n",
              "        document.querySelector('#df-75c080ba-2ec9-44b9-9c3e-fc064c8d22da button.colab-df-convert');\n",
              "      buttonEl.style.display =\n",
              "        google.colab.kernel.accessAllowed ? 'block' : 'none';\n",
              "\n",
              "      async function convertToInteractive(key) {\n",
              "        const element = document.querySelector('#df-75c080ba-2ec9-44b9-9c3e-fc064c8d22da');\n",
              "        const dataTable =\n",
              "          await google.colab.kernel.invokeFunction('convertToInteractive',\n",
              "                                                    [key], {});\n",
              "        if (!dataTable) return;\n",
              "\n",
              "        const docLinkHtml = 'Like what you see? Visit the ' +\n",
              "          '<a target=\"_blank\" href=https://colab.research.google.com/notebooks/data_table.ipynb>data table notebook</a>'\n",
              "          + ' to learn more about interactive tables.';\n",
              "        element.innerHTML = '';\n",
              "        dataTable['output_type'] = 'display_data';\n",
              "        await google.colab.output.renderOutput(dataTable, element);\n",
              "        const docLink = document.createElement('div');\n",
              "        docLink.innerHTML = docLinkHtml;\n",
              "        element.appendChild(docLink);\n",
              "      }\n",
              "    </script>\n",
              "  </div>\n",
              "\n",
              "\n",
              "<div id=\"df-4b3f1c7b-e345-4f47-8c53-ef7adc064049\">\n",
              "  <button class=\"colab-df-quickchart\" onclick=\"quickchart('df-4b3f1c7b-e345-4f47-8c53-ef7adc064049')\"\n",
              "            title=\"Suggest charts\"\n",
              "            style=\"display:none;\">\n",
              "\n",
              "<svg xmlns=\"http://www.w3.org/2000/svg\" height=\"24px\"viewBox=\"0 0 24 24\"\n",
              "     width=\"24px\">\n",
              "    <g>\n",
              "        <path d=\"M19 3H5c-1.1 0-2 .9-2 2v14c0 1.1.9 2 2 2h14c1.1 0 2-.9 2-2V5c0-1.1-.9-2-2-2zM9 17H7v-7h2v7zm4 0h-2V7h2v10zm4 0h-2v-4h2v4z\"/>\n",
              "    </g>\n",
              "</svg>\n",
              "  </button>\n",
              "\n",
              "<style>\n",
              "  .colab-df-quickchart {\n",
              "      --bg-color: #E8F0FE;\n",
              "      --fill-color: #1967D2;\n",
              "      --hover-bg-color: #E2EBFA;\n",
              "      --hover-fill-color: #174EA6;\n",
              "      --disabled-fill-color: #AAA;\n",
              "      --disabled-bg-color: #DDD;\n",
              "  }\n",
              "\n",
              "  [theme=dark] .colab-df-quickchart {\n",
              "      --bg-color: #3B4455;\n",
              "      --fill-color: #D2E3FC;\n",
              "      --hover-bg-color: #434B5C;\n",
              "      --hover-fill-color: #FFFFFF;\n",
              "      --disabled-bg-color: #3B4455;\n",
              "      --disabled-fill-color: #666;\n",
              "  }\n",
              "\n",
              "  .colab-df-quickchart {\n",
              "    background-color: var(--bg-color);\n",
              "    border: none;\n",
              "    border-radius: 50%;\n",
              "    cursor: pointer;\n",
              "    display: none;\n",
              "    fill: var(--fill-color);\n",
              "    height: 32px;\n",
              "    padding: 0;\n",
              "    width: 32px;\n",
              "  }\n",
              "\n",
              "  .colab-df-quickchart:hover {\n",
              "    background-color: var(--hover-bg-color);\n",
              "    box-shadow: 0 1px 2px rgba(60, 64, 67, 0.3), 0 1px 3px 1px rgba(60, 64, 67, 0.15);\n",
              "    fill: var(--button-hover-fill-color);\n",
              "  }\n",
              "\n",
              "  .colab-df-quickchart-complete:disabled,\n",
              "  .colab-df-quickchart-complete:disabled:hover {\n",
              "    background-color: var(--disabled-bg-color);\n",
              "    fill: var(--disabled-fill-color);\n",
              "    box-shadow: none;\n",
              "  }\n",
              "\n",
              "  .colab-df-spinner {\n",
              "    border: 2px solid var(--fill-color);\n",
              "    border-color: transparent;\n",
              "    border-bottom-color: var(--fill-color);\n",
              "    animation:\n",
              "      spin 1s steps(1) infinite;\n",
              "  }\n",
              "\n",
              "  @keyframes spin {\n",
              "    0% {\n",
              "      border-color: transparent;\n",
              "      border-bottom-color: var(--fill-color);\n",
              "      border-left-color: var(--fill-color);\n",
              "    }\n",
              "    20% {\n",
              "      border-color: transparent;\n",
              "      border-left-color: var(--fill-color);\n",
              "      border-top-color: var(--fill-color);\n",
              "    }\n",
              "    30% {\n",
              "      border-color: transparent;\n",
              "      border-left-color: var(--fill-color);\n",
              "      border-top-color: var(--fill-color);\n",
              "      border-right-color: var(--fill-color);\n",
              "    }\n",
              "    40% {\n",
              "      border-color: transparent;\n",
              "      border-right-color: var(--fill-color);\n",
              "      border-top-color: var(--fill-color);\n",
              "    }\n",
              "    60% {\n",
              "      border-color: transparent;\n",
              "      border-right-color: var(--fill-color);\n",
              "    }\n",
              "    80% {\n",
              "      border-color: transparent;\n",
              "      border-right-color: var(--fill-color);\n",
              "      border-bottom-color: var(--fill-color);\n",
              "    }\n",
              "    90% {\n",
              "      border-color: transparent;\n",
              "      border-bottom-color: var(--fill-color);\n",
              "    }\n",
              "  }\n",
              "</style>\n",
              "\n",
              "  <script>\n",
              "    async function quickchart(key) {\n",
              "      const quickchartButtonEl =\n",
              "        document.querySelector('#' + key + ' button');\n",
              "      quickchartButtonEl.disabled = true;  // To prevent multiple clicks.\n",
              "      quickchartButtonEl.classList.add('colab-df-spinner');\n",
              "      try {\n",
              "        const charts = await google.colab.kernel.invokeFunction(\n",
              "            'suggestCharts', [key], {});\n",
              "      } catch (error) {\n",
              "        console.error('Error during call to suggestCharts:', error);\n",
              "      }\n",
              "      quickchartButtonEl.classList.remove('colab-df-spinner');\n",
              "      quickchartButtonEl.classList.add('colab-df-quickchart-complete');\n",
              "    }\n",
              "    (() => {\n",
              "      let quickchartButtonEl =\n",
              "        document.querySelector('#df-4b3f1c7b-e345-4f47-8c53-ef7adc064049 button');\n",
              "      quickchartButtonEl.style.display =\n",
              "        google.colab.kernel.accessAllowed ? 'block' : 'none';\n",
              "    })();\n",
              "  </script>\n",
              "</div>\n",
              "    </div>\n",
              "  </div>\n"
            ],
            "application/vnd.google.colaboratory.intrinsic+json": {
              "type": "dataframe",
              "variable_name": "data",
              "summary": "{\n  \"name\": \"data\",\n  \"rows\": 98745,\n  \"fields\": [\n    {\n      \"column\": \"id\",\n      \"properties\": {\n        \"dtype\": \"number\",\n        \"std\": 102595,\n        \"min\": 335982,\n        \"max\": 729313,\n        \"num_unique_values\": 416,\n        \"samples\": [\n          419143,\n          548354,\n          729303\n        ],\n        \"semantic_type\": \"\",\n        \"description\": \"\"\n      }\n    },\n    {\n      \"column\": \"inning\",\n      \"properties\": {\n        \"dtype\": \"number\",\n        \"std\": 0,\n        \"min\": 1,\n        \"max\": 2,\n        \"num_unique_values\": 2,\n        \"samples\": [\n          2,\n          1\n        ],\n        \"semantic_type\": \"\",\n        \"description\": \"\"\n      }\n    },\n    {\n      \"column\": \"over\",\n      \"properties\": {\n        \"dtype\": \"number\",\n        \"std\": 5,\n        \"min\": 0,\n        \"max\": 19,\n        \"num_unique_values\": 20,\n        \"samples\": [\n          6,\n          3\n        ],\n        \"semantic_type\": \"\",\n        \"description\": \"\"\n      }\n    },\n    {\n      \"column\": \"ball\",\n      \"properties\": {\n        \"dtype\": \"number\",\n        \"std\": 1,\n        \"min\": 1,\n        \"max\": 9,\n        \"num_unique_values\": 9,\n        \"samples\": [\n          8,\n          6\n        ],\n        \"semantic_type\": \"\",\n        \"description\": \"\"\n      }\n    },\n    {\n      \"column\": \"batsman\",\n      \"properties\": {\n        \"dtype\": \"category\",\n        \"num_unique_values\": 379,\n        \"samples\": [\n          \"M Klinger\",\n          \"J Syed Mohammad\"\n        ],\n        \"semantic_type\": \"\",\n        \"description\": \"\"\n      }\n    },\n    {\n      \"column\": \"non_striker\",\n      \"properties\": {\n        \"dtype\": \"category\",\n        \"num_unique_values\": 378,\n        \"samples\": [\n          \"AC Blizzard\",\n          \"PA Reddy\"\n        ],\n        \"semantic_type\": \"\",\n        \"description\": \"\"\n      }\n    },\n    {\n      \"column\": \"bowler\",\n      \"properties\": {\n        \"dtype\": \"category\",\n        \"num_unique_values\": 284,\n        \"samples\": [\n          \"I Sharma\",\n          \"AS Rajpoot\"\n        ],\n        \"semantic_type\": \"\",\n        \"description\": \"\"\n      }\n    },\n    {\n      \"column\": \"batsman_runs\",\n      \"properties\": {\n        \"dtype\": \"number\",\n        \"std\": 1,\n        \"min\": 0,\n        \"max\": 6,\n        \"num_unique_values\": 7,\n        \"samples\": [\n          1,\n          0\n        ],\n        \"semantic_type\": \"\",\n        \"description\": \"\"\n      }\n    },\n    {\n      \"column\": \"extra_runs\",\n      \"properties\": {\n        \"dtype\": \"number\",\n        \"std\": 0,\n        \"min\": 0,\n        \"max\": 7,\n        \"num_unique_values\": 7,\n        \"samples\": [\n          0,\n          4\n        ],\n        \"semantic_type\": \"\",\n        \"description\": \"\"\n      }\n    },\n    {\n      \"column\": \"total_runs\",\n      \"properties\": {\n        \"dtype\": \"number\",\n        \"std\": 1,\n        \"min\": 0,\n        \"max\": 7,\n        \"num_unique_values\": 8,\n        \"samples\": [\n          0,\n          5\n        ],\n        \"semantic_type\": \"\",\n        \"description\": \"\"\n      }\n    },\n    {\n      \"column\": \"non_boundary\",\n      \"properties\": {\n        \"dtype\": \"number\",\n        \"std\": 0,\n        \"min\": 0,\n        \"max\": 1,\n        \"num_unique_values\": 2,\n        \"samples\": [\n          1,\n          0\n        ],\n        \"semantic_type\": \"\",\n        \"description\": \"\"\n      }\n    },\n    {\n      \"column\": \"is_wicket\",\n      \"properties\": {\n        \"dtype\": \"number\",\n        \"std\": 0,\n        \"min\": 0,\n        \"max\": 1,\n        \"num_unique_values\": 2,\n        \"samples\": [\n          1,\n          0\n        ],\n        \"semantic_type\": \"\",\n        \"description\": \"\"\n      }\n    },\n    {\n      \"column\": \"dismissal_kind\",\n      \"properties\": {\n        \"dtype\": \"category\",\n        \"num_unique_values\": 9,\n        \"samples\": [\n          \"hit wicket\",\n          \"run out\"\n        ],\n        \"semantic_type\": \"\",\n        \"description\": \"\"\n      }\n    },\n    {\n      \"column\": \"player_dismissed\",\n      \"properties\": {\n        \"dtype\": \"category\",\n        \"num_unique_values\": 355,\n        \"samples\": [\n          \"CK Langeveldt\",\n          \"AS Yadav\"\n        ],\n        \"semantic_type\": \"\",\n        \"description\": \"\"\n      }\n    },\n    {\n      \"column\": \"fielder\",\n      \"properties\": {\n        \"dtype\": \"category\",\n        \"num_unique_values\": 608,\n        \"samples\": [\n          \"DJ Thornely\",\n          \"Joginder Sharma\"\n        ],\n        \"semantic_type\": \"\",\n        \"description\": \"\"\n      }\n    },\n    {\n      \"column\": \"extras_type\",\n      \"properties\": {\n        \"dtype\": \"category\",\n        \"num_unique_values\": 5,\n        \"samples\": [\n          \"wides\",\n          \"penalty\"\n        ],\n        \"semantic_type\": \"\",\n        \"description\": \"\"\n      }\n    },\n    {\n      \"column\": \"batting_team\",\n      \"properties\": {\n        \"dtype\": \"category\",\n        \"num_unique_values\": 11,\n        \"samples\": [\n          \"Delhi Daredevils\",\n          \"Kolkata Knight Riders\"\n        ],\n        \"semantic_type\": \"\",\n        \"description\": \"\"\n      }\n    },\n    {\n      \"column\": \"bowling_team\",\n      \"properties\": {\n        \"dtype\": \"category\",\n        \"num_unique_values\": 11,\n        \"samples\": [\n          \"Rajasthan Royals\",\n          \"Royal Challengers Bangalore\"\n        ],\n        \"semantic_type\": \"\",\n        \"description\": \"\"\n      }\n    }\n  ]\n}"
            }
          },
          "metadata": {},
          "execution_count": 5
        }
      ],
      "source": [
        "file = \"IPL Ball-by-Ball 2008-2020.csv\"\n",
        "data = pd.read_csv(file)\n",
        "data.head()"
      ]
    },
    {
      "cell_type": "markdown",
      "source": [
        "##**Describe Data**"
      ],
      "metadata": {
        "id": "-hy6_uvIVOGH"
      }
    },
    {
      "cell_type": "markdown",
      "source": [
        "####Informasi Dasar"
      ],
      "metadata": {
        "id": "nl6nccPmUZ6F"
      }
    },
    {
      "cell_type": "code",
      "source": [
        "print(\"Baris :\",df_file.shape[0])\n",
        "print(\"Kolom :\",df_file.shape[1])"
      ],
      "metadata": {
        "id": "zEyDvT0EUcB2",
        "colab": {
          "base_uri": "https://localhost:8080/"
        },
        "outputId": "884e4df2-b03a-4ee0-90b6-aff2ab8c4031"
      },
      "execution_count": null,
      "outputs": [
        {
          "output_type": "stream",
          "name": "stdout",
          "text": [
            "Baris : 193468\n",
            "Kolom : 18\n"
          ]
        }
      ]
    },
    {
      "cell_type": "markdown",
      "source": [
        "Pada baris pertama (print(\"Baris :\",df_file.shape[0])), Anda menggunakan fungsi print() untuk mencetak teks \"Baris :\" diikuti oleh jumlah baris dari DataFrame df_file. Untuk mendapatkan jumlah baris, Anda menggunakan indeks [0] dari tuple yang dikembalikan oleh atribut shape.\n",
        "\n",
        "Pada baris kedua (print(\"Kolom :\",df_file.shape[1])), Anda menggunakan fungsi print() lagi untuk mencetak teks \"Kolom :\" diikuti oleh jumlah kolom dari DataFrame df_file. Untuk mendapatkan jumlah kolom, Anda menggunakan indeks [1] dari tuple yang dikembalikan oleh atribut shape.\n",
        "\n",
        "Jadi, kode tersebut memberikan output yang menjelaskan jumlah baris dan kolom dari DataFrame df_file.\n"
      ],
      "metadata": {
        "id": "ZwH62IRTVXNL"
      }
    },
    {
      "cell_type": "markdown",
      "source": [
        "####Informasi Lanjutan"
      ],
      "metadata": {
        "id": "BXEzaPAHVMPd"
      }
    },
    {
      "cell_type": "code",
      "source": [
        "df_file.info()"
      ],
      "metadata": {
        "id": "L1CvPak8VHOF",
        "colab": {
          "base_uri": "https://localhost:8080/"
        },
        "outputId": "dffa669c-8995-465b-ab3e-565ec8ccf741"
      },
      "execution_count": null,
      "outputs": [
        {
          "output_type": "stream",
          "name": "stdout",
          "text": [
            "<class 'pandas.core.frame.DataFrame'>\n",
            "RangeIndex: 193468 entries, 0 to 193467\n",
            "Data columns (total 18 columns):\n",
            " #   Column            Non-Null Count   Dtype \n",
            "---  ------            --------------   ----- \n",
            " 0   id                193468 non-null  int64 \n",
            " 1   inning            193468 non-null  int64 \n",
            " 2   over              193468 non-null  int64 \n",
            " 3   ball              193468 non-null  int64 \n",
            " 4   batsman           193468 non-null  object\n",
            " 5   non_striker       193468 non-null  object\n",
            " 6   bowler            193468 non-null  object\n",
            " 7   batsman_runs      193468 non-null  int64 \n",
            " 8   extra_runs        193468 non-null  int64 \n",
            " 9   total_runs        193468 non-null  int64 \n",
            " 10  non_boundary      193468 non-null  int64 \n",
            " 11  is_wicket         193468 non-null  int64 \n",
            " 12  dismissal_kind    9495 non-null    object\n",
            " 13  player_dismissed  9495 non-null    object\n",
            " 14  fielder           6784 non-null    object\n",
            " 15  extras_type       10233 non-null   object\n",
            " 16  batting_team      193468 non-null  object\n",
            " 17  bowling_team      193277 non-null  object\n",
            "dtypes: int64(9), object(9)\n",
            "memory usage: 26.6+ MB\n"
          ]
        }
      ]
    },
    {
      "cell_type": "markdown",
      "source": [
        "\n",
        "\n",
        "1. id: Merupakan identifikasi unik untuk setiap entri dalam dataset.\n",
        "    Terdapat 193468 non-null values dengan tipe data int64.\n",
        "\n",
        "2. inning: Merupakan nomor inning dalam pertandingan kriket. Terdapat\n",
        "   193468 non-null values dengan tipe data int64.\n",
        "\n",
        "3. over: Menunjukkan nomor over dalam inning. Terdapat 193468 non-null\n",
        "   values dengan tipe data int64.\n",
        "\n",
        "4. ball: Menunjukkan nomor bola dalam over saat itu. Terdapat 193468\n",
        "   non-null values dengan tipe data int64.\n",
        "\n",
        "5. batsman: Nama pemukul yang sedang bertugas. Tipe data kolom ini\n",
        "   adalah objek (object) yang mewakili string (nama pemain).\n",
        "\n",
        "6. non_striker: Nama pemain yang tidak bertugas saat ini. Tipe data\n",
        "   kolom ini adalah objek (object) yang mewakili string (nama pemain).\n",
        "\n",
        "7. bowler: Nama pemain yang sedang melakukan lemparan (bowling). Tipe\n",
        "   data kolom ini adalah objek (object) yang mewakili string (nama pemain).\n",
        "\n",
        "8. batsman_runs: Jumlah run yang dicetak oleh pemukul pada bola\n",
        "   tersebut. Terdapat 193468 non-null values dengan tipe data int64.\n",
        "\n",
        "9. extra_runs: Jumlah run ekstra yang diberikan oleh pemain bowling.\n",
        "   Terdapat 193468 non-null values dengan tipe data int64.\n",
        "\n",
        "10. total_runs: Total run yang diperoleh dalam bola tersebut (termasuk\n",
        "    run yang dicetak oleh pemukul dan run ekstra). Terdapat 193468 non-null values dengan tipe data int64.\n",
        "\n",
        "11. non_boundary: Menunjukkan apakah run tersebut merupakan non-boundary (melewati boundary) atau bukan. Terdapat 193468 non-null values dengan tipe data int64.\n",
        "\n",
        "12. is_wicket: Menunjukkan apakah pemukul telah diambil wicket atau\n",
        "    tidak. Terdapat 193468 non-null values dengan tipe data int64.\n",
        "\n",
        "13. dismissal_kind: Jenis dismissals (pemukul dikeluarkan) jika ada.\n",
        "    Hanya terdapat 9495 non-null values pada kolom ini, dengan tipe data objek (object) yang mewakili string (jenis dismissals).\n",
        "\n",
        "14. player_dismissed: Nama pemukul yang telah dikeluarkan jika ada.\n",
        "    Hanya terdapat 9495 non-null values pada kolom ini, dengan tipe data objek (object) yang mewakili string (nama pemain).\n",
        "\n",
        "15. fielder: Nama pemain yang berhasil menangkap pemukul yang          dikeluarkan jika ada. Hanya terdapat 6784 non-null values pada kolom ini, dengan tipe data objek (object) yang mewakili string (nama pemain).\n",
        "\n",
        "16. extras_type: Jenis extras (run ekstra) yang diberikan oleh pemain bowling jika ada. Hanya terdapat 10233 non-null values pada kolom ini, dengan tipe data objek (object) yang mewakili string (jenis extras).\n",
        "\n",
        "17. batting_team: Tim yang sedang melakukan pukulan saat itu. Tipe data kolom ini adalah objek (object) yang mewakili string (nama tim).\n",
        "\n",
        "18. bowling_team: Tim yang sedang melakukan lemparan (bowling) saat itu. Hanya terdapat 193277 non-null values pada kolom ini, dengan tipe data objek (object) yang mewakili string (nama tim)."
      ],
      "metadata": {
        "id": "-6miym5GVbaC"
      }
    },
    {
      "cell_type": "markdown",
      "source": [
        "####Informasi Statistik Deskriptif"
      ],
      "metadata": {
        "id": "D5GD3qzXVrF5"
      }
    },
    {
      "cell_type": "code",
      "source": [
        "df_file.describe()"
      ],
      "metadata": {
        "id": "rHdqc2OkVuPC",
        "colab": {
          "base_uri": "https://localhost:8080/",
          "height": 300
        },
        "outputId": "40d762d7-6f0f-4e58-b596-a555c17b89b5"
      },
      "execution_count": null,
      "outputs": [
        {
          "output_type": "execute_result",
          "data": {
            "text/plain": [
              "                 id         inning           over           ball  \\\n",
              "count  1.934680e+05  193468.000000  193468.000000  193468.000000   \n",
              "mean   7.567688e+05       1.482131       9.177027       3.615967   \n",
              "std    3.060971e+05       0.499682       5.676848       1.807128   \n",
              "min    3.359820e+05       1.000000       0.000000       1.000000   \n",
              "25%    5.012270e+05       1.000000       4.000000       2.000000   \n",
              "50%    7.292970e+05       1.000000       9.000000       4.000000   \n",
              "75%    1.082628e+06       2.000000      14.000000       5.000000   \n",
              "max    1.237181e+06       2.000000      19.000000       9.000000   \n",
              "\n",
              "        batsman_runs     extra_runs     total_runs   non_boundary  \\\n",
              "count  193468.000000  193468.000000  193468.000000  193468.000000   \n",
              "mean        1.240231       0.066414       1.306645       0.000083   \n",
              "std         1.610867       0.339991       1.598802       0.009094   \n",
              "min         0.000000       0.000000       0.000000       0.000000   \n",
              "25%         0.000000       0.000000       0.000000       0.000000   \n",
              "50%         1.000000       0.000000       1.000000       0.000000   \n",
              "75%         1.000000       0.000000       1.000000       0.000000   \n",
              "max         6.000000       7.000000       7.000000       1.000000   \n",
              "\n",
              "           is_wicket  \n",
              "count  193468.000000  \n",
              "mean        0.049078  \n",
              "std         0.216031  \n",
              "min         0.000000  \n",
              "25%         0.000000  \n",
              "50%         0.000000  \n",
              "75%         0.000000  \n",
              "max         1.000000  "
            ],
            "text/html": [
              "\n",
              "  <div id=\"df-7605c0c6-b96f-43af-bbb3-a1b296dd12d6\" class=\"colab-df-container\">\n",
              "    <div>\n",
              "<style scoped>\n",
              "    .dataframe tbody tr th:only-of-type {\n",
              "        vertical-align: middle;\n",
              "    }\n",
              "\n",
              "    .dataframe tbody tr th {\n",
              "        vertical-align: top;\n",
              "    }\n",
              "\n",
              "    .dataframe thead th {\n",
              "        text-align: right;\n",
              "    }\n",
              "</style>\n",
              "<table border=\"1\" class=\"dataframe\">\n",
              "  <thead>\n",
              "    <tr style=\"text-align: right;\">\n",
              "      <th></th>\n",
              "      <th>id</th>\n",
              "      <th>inning</th>\n",
              "      <th>over</th>\n",
              "      <th>ball</th>\n",
              "      <th>batsman_runs</th>\n",
              "      <th>extra_runs</th>\n",
              "      <th>total_runs</th>\n",
              "      <th>non_boundary</th>\n",
              "      <th>is_wicket</th>\n",
              "    </tr>\n",
              "  </thead>\n",
              "  <tbody>\n",
              "    <tr>\n",
              "      <th>count</th>\n",
              "      <td>1.934680e+05</td>\n",
              "      <td>193468.000000</td>\n",
              "      <td>193468.000000</td>\n",
              "      <td>193468.000000</td>\n",
              "      <td>193468.000000</td>\n",
              "      <td>193468.000000</td>\n",
              "      <td>193468.000000</td>\n",
              "      <td>193468.000000</td>\n",
              "      <td>193468.000000</td>\n",
              "    </tr>\n",
              "    <tr>\n",
              "      <th>mean</th>\n",
              "      <td>7.567688e+05</td>\n",
              "      <td>1.482131</td>\n",
              "      <td>9.177027</td>\n",
              "      <td>3.615967</td>\n",
              "      <td>1.240231</td>\n",
              "      <td>0.066414</td>\n",
              "      <td>1.306645</td>\n",
              "      <td>0.000083</td>\n",
              "      <td>0.049078</td>\n",
              "    </tr>\n",
              "    <tr>\n",
              "      <th>std</th>\n",
              "      <td>3.060971e+05</td>\n",
              "      <td>0.499682</td>\n",
              "      <td>5.676848</td>\n",
              "      <td>1.807128</td>\n",
              "      <td>1.610867</td>\n",
              "      <td>0.339991</td>\n",
              "      <td>1.598802</td>\n",
              "      <td>0.009094</td>\n",
              "      <td>0.216031</td>\n",
              "    </tr>\n",
              "    <tr>\n",
              "      <th>min</th>\n",
              "      <td>3.359820e+05</td>\n",
              "      <td>1.000000</td>\n",
              "      <td>0.000000</td>\n",
              "      <td>1.000000</td>\n",
              "      <td>0.000000</td>\n",
              "      <td>0.000000</td>\n",
              "      <td>0.000000</td>\n",
              "      <td>0.000000</td>\n",
              "      <td>0.000000</td>\n",
              "    </tr>\n",
              "    <tr>\n",
              "      <th>25%</th>\n",
              "      <td>5.012270e+05</td>\n",
              "      <td>1.000000</td>\n",
              "      <td>4.000000</td>\n",
              "      <td>2.000000</td>\n",
              "      <td>0.000000</td>\n",
              "      <td>0.000000</td>\n",
              "      <td>0.000000</td>\n",
              "      <td>0.000000</td>\n",
              "      <td>0.000000</td>\n",
              "    </tr>\n",
              "    <tr>\n",
              "      <th>50%</th>\n",
              "      <td>7.292970e+05</td>\n",
              "      <td>1.000000</td>\n",
              "      <td>9.000000</td>\n",
              "      <td>4.000000</td>\n",
              "      <td>1.000000</td>\n",
              "      <td>0.000000</td>\n",
              "      <td>1.000000</td>\n",
              "      <td>0.000000</td>\n",
              "      <td>0.000000</td>\n",
              "    </tr>\n",
              "    <tr>\n",
              "      <th>75%</th>\n",
              "      <td>1.082628e+06</td>\n",
              "      <td>2.000000</td>\n",
              "      <td>14.000000</td>\n",
              "      <td>5.000000</td>\n",
              "      <td>1.000000</td>\n",
              "      <td>0.000000</td>\n",
              "      <td>1.000000</td>\n",
              "      <td>0.000000</td>\n",
              "      <td>0.000000</td>\n",
              "    </tr>\n",
              "    <tr>\n",
              "      <th>max</th>\n",
              "      <td>1.237181e+06</td>\n",
              "      <td>2.000000</td>\n",
              "      <td>19.000000</td>\n",
              "      <td>9.000000</td>\n",
              "      <td>6.000000</td>\n",
              "      <td>7.000000</td>\n",
              "      <td>7.000000</td>\n",
              "      <td>1.000000</td>\n",
              "      <td>1.000000</td>\n",
              "    </tr>\n",
              "  </tbody>\n",
              "</table>\n",
              "</div>\n",
              "    <div class=\"colab-df-buttons\">\n",
              "\n",
              "  <div class=\"colab-df-container\">\n",
              "    <button class=\"colab-df-convert\" onclick=\"convertToInteractive('df-7605c0c6-b96f-43af-bbb3-a1b296dd12d6')\"\n",
              "            title=\"Convert this dataframe to an interactive table.\"\n",
              "            style=\"display:none;\">\n",
              "\n",
              "  <svg xmlns=\"http://www.w3.org/2000/svg\" height=\"24px\" viewBox=\"0 -960 960 960\">\n",
              "    <path d=\"M120-120v-720h720v720H120Zm60-500h600v-160H180v160Zm220 220h160v-160H400v160Zm0 220h160v-160H400v160ZM180-400h160v-160H180v160Zm440 0h160v-160H620v160ZM180-180h160v-160H180v160Zm440 0h160v-160H620v160Z\"/>\n",
              "  </svg>\n",
              "    </button>\n",
              "\n",
              "  <style>\n",
              "    .colab-df-container {\n",
              "      display:flex;\n",
              "      gap: 12px;\n",
              "    }\n",
              "\n",
              "    .colab-df-convert {\n",
              "      background-color: #E8F0FE;\n",
              "      border: none;\n",
              "      border-radius: 50%;\n",
              "      cursor: pointer;\n",
              "      display: none;\n",
              "      fill: #1967D2;\n",
              "      height: 32px;\n",
              "      padding: 0 0 0 0;\n",
              "      width: 32px;\n",
              "    }\n",
              "\n",
              "    .colab-df-convert:hover {\n",
              "      background-color: #E2EBFA;\n",
              "      box-shadow: 0px 1px 2px rgba(60, 64, 67, 0.3), 0px 1px 3px 1px rgba(60, 64, 67, 0.15);\n",
              "      fill: #174EA6;\n",
              "    }\n",
              "\n",
              "    .colab-df-buttons div {\n",
              "      margin-bottom: 4px;\n",
              "    }\n",
              "\n",
              "    [theme=dark] .colab-df-convert {\n",
              "      background-color: #3B4455;\n",
              "      fill: #D2E3FC;\n",
              "    }\n",
              "\n",
              "    [theme=dark] .colab-df-convert:hover {\n",
              "      background-color: #434B5C;\n",
              "      box-shadow: 0px 1px 3px 1px rgba(0, 0, 0, 0.15);\n",
              "      filter: drop-shadow(0px 1px 2px rgba(0, 0, 0, 0.3));\n",
              "      fill: #FFFFFF;\n",
              "    }\n",
              "  </style>\n",
              "\n",
              "    <script>\n",
              "      const buttonEl =\n",
              "        document.querySelector('#df-7605c0c6-b96f-43af-bbb3-a1b296dd12d6 button.colab-df-convert');\n",
              "      buttonEl.style.display =\n",
              "        google.colab.kernel.accessAllowed ? 'block' : 'none';\n",
              "\n",
              "      async function convertToInteractive(key) {\n",
              "        const element = document.querySelector('#df-7605c0c6-b96f-43af-bbb3-a1b296dd12d6');\n",
              "        const dataTable =\n",
              "          await google.colab.kernel.invokeFunction('convertToInteractive',\n",
              "                                                    [key], {});\n",
              "        if (!dataTable) return;\n",
              "\n",
              "        const docLinkHtml = 'Like what you see? Visit the ' +\n",
              "          '<a target=\"_blank\" href=https://colab.research.google.com/notebooks/data_table.ipynb>data table notebook</a>'\n",
              "          + ' to learn more about interactive tables.';\n",
              "        element.innerHTML = '';\n",
              "        dataTable['output_type'] = 'display_data';\n",
              "        await google.colab.output.renderOutput(dataTable, element);\n",
              "        const docLink = document.createElement('div');\n",
              "        docLink.innerHTML = docLinkHtml;\n",
              "        element.appendChild(docLink);\n",
              "      }\n",
              "    </script>\n",
              "  </div>\n",
              "\n",
              "\n",
              "<div id=\"df-5df14ffe-55b1-4abd-a09d-55325f0858f0\">\n",
              "  <button class=\"colab-df-quickchart\" onclick=\"quickchart('df-5df14ffe-55b1-4abd-a09d-55325f0858f0')\"\n",
              "            title=\"Suggest charts\"\n",
              "            style=\"display:none;\">\n",
              "\n",
              "<svg xmlns=\"http://www.w3.org/2000/svg\" height=\"24px\"viewBox=\"0 0 24 24\"\n",
              "     width=\"24px\">\n",
              "    <g>\n",
              "        <path d=\"M19 3H5c-1.1 0-2 .9-2 2v14c0 1.1.9 2 2 2h14c1.1 0 2-.9 2-2V5c0-1.1-.9-2-2-2zM9 17H7v-7h2v7zm4 0h-2V7h2v10zm4 0h-2v-4h2v4z\"/>\n",
              "    </g>\n",
              "</svg>\n",
              "  </button>\n",
              "\n",
              "<style>\n",
              "  .colab-df-quickchart {\n",
              "      --bg-color: #E8F0FE;\n",
              "      --fill-color: #1967D2;\n",
              "      --hover-bg-color: #E2EBFA;\n",
              "      --hover-fill-color: #174EA6;\n",
              "      --disabled-fill-color: #AAA;\n",
              "      --disabled-bg-color: #DDD;\n",
              "  }\n",
              "\n",
              "  [theme=dark] .colab-df-quickchart {\n",
              "      --bg-color: #3B4455;\n",
              "      --fill-color: #D2E3FC;\n",
              "      --hover-bg-color: #434B5C;\n",
              "      --hover-fill-color: #FFFFFF;\n",
              "      --disabled-bg-color: #3B4455;\n",
              "      --disabled-fill-color: #666;\n",
              "  }\n",
              "\n",
              "  .colab-df-quickchart {\n",
              "    background-color: var(--bg-color);\n",
              "    border: none;\n",
              "    border-radius: 50%;\n",
              "    cursor: pointer;\n",
              "    display: none;\n",
              "    fill: var(--fill-color);\n",
              "    height: 32px;\n",
              "    padding: 0;\n",
              "    width: 32px;\n",
              "  }\n",
              "\n",
              "  .colab-df-quickchart:hover {\n",
              "    background-color: var(--hover-bg-color);\n",
              "    box-shadow: 0 1px 2px rgba(60, 64, 67, 0.3), 0 1px 3px 1px rgba(60, 64, 67, 0.15);\n",
              "    fill: var(--button-hover-fill-color);\n",
              "  }\n",
              "\n",
              "  .colab-df-quickchart-complete:disabled,\n",
              "  .colab-df-quickchart-complete:disabled:hover {\n",
              "    background-color: var(--disabled-bg-color);\n",
              "    fill: var(--disabled-fill-color);\n",
              "    box-shadow: none;\n",
              "  }\n",
              "\n",
              "  .colab-df-spinner {\n",
              "    border: 2px solid var(--fill-color);\n",
              "    border-color: transparent;\n",
              "    border-bottom-color: var(--fill-color);\n",
              "    animation:\n",
              "      spin 1s steps(1) infinite;\n",
              "  }\n",
              "\n",
              "  @keyframes spin {\n",
              "    0% {\n",
              "      border-color: transparent;\n",
              "      border-bottom-color: var(--fill-color);\n",
              "      border-left-color: var(--fill-color);\n",
              "    }\n",
              "    20% {\n",
              "      border-color: transparent;\n",
              "      border-left-color: var(--fill-color);\n",
              "      border-top-color: var(--fill-color);\n",
              "    }\n",
              "    30% {\n",
              "      border-color: transparent;\n",
              "      border-left-color: var(--fill-color);\n",
              "      border-top-color: var(--fill-color);\n",
              "      border-right-color: var(--fill-color);\n",
              "    }\n",
              "    40% {\n",
              "      border-color: transparent;\n",
              "      border-right-color: var(--fill-color);\n",
              "      border-top-color: var(--fill-color);\n",
              "    }\n",
              "    60% {\n",
              "      border-color: transparent;\n",
              "      border-right-color: var(--fill-color);\n",
              "    }\n",
              "    80% {\n",
              "      border-color: transparent;\n",
              "      border-right-color: var(--fill-color);\n",
              "      border-bottom-color: var(--fill-color);\n",
              "    }\n",
              "    90% {\n",
              "      border-color: transparent;\n",
              "      border-bottom-color: var(--fill-color);\n",
              "    }\n",
              "  }\n",
              "</style>\n",
              "\n",
              "  <script>\n",
              "    async function quickchart(key) {\n",
              "      const quickchartButtonEl =\n",
              "        document.querySelector('#' + key + ' button');\n",
              "      quickchartButtonEl.disabled = true;  // To prevent multiple clicks.\n",
              "      quickchartButtonEl.classList.add('colab-df-spinner');\n",
              "      try {\n",
              "        const charts = await google.colab.kernel.invokeFunction(\n",
              "            'suggestCharts', [key], {});\n",
              "      } catch (error) {\n",
              "        console.error('Error during call to suggestCharts:', error);\n",
              "      }\n",
              "      quickchartButtonEl.classList.remove('colab-df-spinner');\n",
              "      quickchartButtonEl.classList.add('colab-df-quickchart-complete');\n",
              "    }\n",
              "    (() => {\n",
              "      let quickchartButtonEl =\n",
              "        document.querySelector('#df-5df14ffe-55b1-4abd-a09d-55325f0858f0 button');\n",
              "      quickchartButtonEl.style.display =\n",
              "        google.colab.kernel.accessAllowed ? 'block' : 'none';\n",
              "    })();\n",
              "  </script>\n",
              "</div>\n",
              "    </div>\n",
              "  </div>\n"
            ],
            "application/vnd.google.colaboratory.intrinsic+json": {
              "type": "dataframe",
              "summary": "{\n  \"name\": \"df_file\",\n  \"rows\": 8,\n  \"fields\": [\n    {\n      \"column\": \"id\",\n      \"properties\": {\n        \"dtype\": \"number\",\n        \"std\": 377332.053394402,\n        \"min\": 193468.0,\n        \"max\": 1237181.0,\n        \"num_unique_values\": 8,\n        \"samples\": [\n          756768.8084386048,\n          729297.0,\n          193468.0\n        ],\n        \"semantic_type\": \"\",\n        \"description\": \"\"\n      }\n    },\n    {\n      \"column\": \"inning\",\n      \"properties\": {\n        \"dtype\": \"number\",\n        \"std\": 68400.8137232275,\n        \"min\": 0.49968190293373693,\n        \"max\": 193468.0,\n        \"num_unique_values\": 5,\n        \"samples\": [\n          1.4821314119130813,\n          2.0,\n          0.49968190293373693\n        ],\n        \"semantic_type\": \"\",\n        \"description\": \"\"\n      }\n    },\n    {\n      \"column\": \"over\",\n      \"properties\": {\n        \"dtype\": \"number\",\n        \"std\": 68398.19403859916,\n        \"min\": 0.0,\n        \"max\": 193468.0,\n        \"num_unique_values\": 8,\n        \"samples\": [\n          9.17702669175264,\n          9.0,\n          193468.0\n        ],\n        \"semantic_type\": \"\",\n        \"description\": \"\"\n      }\n    },\n    {\n      \"column\": \"ball\",\n      \"properties\": {\n        \"dtype\": \"number\",\n        \"std\": 68399.9328489932,\n        \"min\": 1.0,\n        \"max\": 193468.0,\n        \"num_unique_values\": 8,\n        \"samples\": [\n          3.615967498501044,\n          4.0,\n          193468.0\n        ],\n        \"semantic_type\": \"\",\n        \"description\": \"\"\n      }\n    },\n    {\n      \"column\": \"batsman_runs\",\n      \"properties\": {\n        \"dtype\": \"number\",\n        \"std\": 68400.71933454486,\n        \"min\": 0.0,\n        \"max\": 193468.0,\n        \"num_unique_values\": 6,\n        \"samples\": [\n          193468.0,\n          1.2402309425848201,\n          6.0\n        ],\n        \"semantic_type\": \"\",\n        \"description\": \"\"\n      }\n    },\n    {\n      \"column\": \"extra_runs\",\n      \"properties\": {\n        \"dtype\": \"number\",\n        \"std\": 68400.89333444639,\n        \"min\": 0.0,\n        \"max\": 193468.0,\n        \"num_unique_values\": 5,\n        \"samples\": [\n          0.06641408398288089,\n          7.0,\n          0.3399913362666674\n        ],\n        \"semantic_type\": \"\",\n        \"description\": \"\"\n      }\n    },\n    {\n      \"column\": \"total_runs\",\n      \"properties\": {\n        \"dtype\": \"number\",\n        \"std\": 68400.66609199594,\n        \"min\": 0.0,\n        \"max\": 193468.0,\n        \"num_unique_values\": 6,\n        \"samples\": [\n          193468.0,\n          1.3066450265677012,\n          7.0\n        ],\n        \"semantic_type\": \"\",\n        \"description\": \"\"\n      }\n    },\n    {\n      \"column\": \"non_boundary\",\n      \"properties\": {\n        \"dtype\": \"number\",\n        \"std\": 68401.21640108859,\n        \"min\": 0.0,\n        \"max\": 193468.0,\n        \"num_unique_values\": 5,\n        \"samples\": [\n          8.270101515496103e-05,\n          1.0,\n          0.009093657302209601\n        ],\n        \"semantic_type\": \"\",\n        \"description\": \"\"\n      }\n    },\n    {\n      \"column\": \"is_wicket\",\n      \"properties\": {\n        \"dtype\": \"number\",\n        \"std\": 68401.20347449744,\n        \"min\": 0.0,\n        \"max\": 193468.0,\n        \"num_unique_values\": 5,\n        \"samples\": [\n          0.049077883681022186,\n          1.0,\n          0.21603121589317198\n        ],\n        \"semantic_type\": \"\",\n        \"description\": \"\"\n      }\n    }\n  ]\n}"
            }
          },
          "metadata": {},
          "execution_count": 17
        }
      ]
    },
    {
      "cell_type": "markdown",
      "source": [
        "id: Kolom ini merupakan kolom identifikasi unik untuk setiap entri dalam dataset. Statistik deskriptif untuk kolom ini tidaklah bermakna secara umum, karena ini hanyalah nomor identifikasi. Yang dapat diketahui adalah jumlah entri (count), tetapi rata-rata, standar deviasi, dan lainnya tidak bermakna dalam konteks ini.\n",
        "\n",
        "inning: Kolom ini menunjukkan nomor inning dalam pertandingan kriket. Statistik deskriptif untuk kolom ini mencakup jumlah entri, rata-rata (mean), standar deviasi (std), nilai minimum (min), kuartil pertama (25%), median (50%), kuartil ketiga (75%), dan nilai maksimum (max). Dalam konteks ini, kita dapat mengetahui distribusi inning dalam dataset, termasuk nilai rata-rata dan persebarannya.\n",
        "\n",
        "over, ball, batsman_runs, extra_runs, total_runs, non_boundary, is_wicket: Kolom-kolom ini menunjukkan data numerik terkait dengan pertandingan kriket, seperti nomor over, jumlah run yang dicetak, run ekstra, total run, dan apakah pemukul telah diambil wicket atau tidak. Statistik deskriptif untuk kolom-kolom ini mencakup jumlah entri, rata-rata (mean), standar deviasi (std), nilai minimum (min), kuartil pertama (25%), median (50%), kuartil ketiga (75%), dan nilai maksimum (max). Ini membantu kita memahami distribusi nilai-nilai tersebut dalam dataset dan sifat-sifat dasarnya, seperti nilai rata-rata dan persebaran datanya.\n",
        "\n",
        "non_striker, bowler: Kolom-kolom ini berisi data kategorikal yang mewakili nama-nama pemain yang terlibat dalam pertandingan. Statistik deskriptif yang relevan dalam konteks ini adalah jumlah entri dan jumlah nilai unik.\n",
        "\n",
        "dismissal_kind, player_dismissed, fielder, extras_type, batting_team, bowling_team: Kolom-kolom ini juga berisi data kategorikal yang mewakili informasi tentang jenis-jenis pemukulan, jenis-jenis pemain yang dikeluarkan, nama-nama pemain yang melakukan pengambilan wicket, jenis ekstra yang diberikan oleh pemain bowling, dan nama-nama tim yang berpartisipasi dalam pertandingan. Statistik deskriptif yang relevan dalam konteks ini adalah jumlah entri dan jumlah nilai unik."
      ],
      "metadata": {
        "id": "q_OSzaKKV28E"
      }
    },
    {
      "cell_type": "markdown",
      "source": [
        "##**Exploratory Data Analysis**"
      ],
      "metadata": {
        "id": "YVd8wfBkV9OE"
      }
    },
    {
      "cell_type": "code",
      "source": [
        "df = pd.read_csv('IPL Ball-by-Ball 2008-2020.csv')\n",
        "\n",
        "# Define the list of columns to visualize\n",
        "columns = ['id','inning','over',\t'ball','batsman_runs',\t'extra_runs',\t'total_runs',\t'non_boundary',\t'is_wicket']\n",
        "\n",
        "# Create the plot\n",
        "plt.figure(figsize=(10, 8))\n",
        "\n",
        "for i, Quality in enumerate(columns):\n",
        "    plt.subplot(3, 3, i + 1)\n",
        "    sns.histplot(data=df, x=Quality, kde=True, bins=15, color='red')\n",
        "\n",
        "plt.show()"
      ],
      "metadata": {
        "id": "_ohZShs2Wv9r",
        "colab": {
          "base_uri": "https://localhost:8080/",
          "height": 696
        },
        "outputId": "d440a6c1-69b7-41e7-ac06-dcf82e2520d9"
      },
      "execution_count": null,
      "outputs": [
        {
          "output_type": "display_data",
          "data": {
            "text/plain": [
              "<Figure size 1000x800 with 9 Axes>"
            ],
            "image/png": "[encoded data removed]"
          },
          "metadata": {}
        }
      ]
    },
    {
      "cell_type": "markdown",
      "source": [
        "1. id: Histogram menunjukkan sebaran frekuensi ID pertandingan. Jika histogram menunjukkan distribusi yang merata, ini menunjukkan bahwa data tersebar secara merata di seluruh rentang ID. Namun, jika terdapat puncak-puncak atau pola yang menonjol, ini mungkin menunjukkan bahwa beberapa ID lebih umum atau lebih sering muncul daripada yang lain.\n",
        "\n",
        "2. inning: Histogram menunjukkan sebaran frekuensi inning dalam pertandingan kriket. Jumlah inning pada pertandingan kriket biasanya 2, tetapi beberapa pertandingan mungkin memiliki inning tambahan karena situasi khusus, seperti pertandingan tie-breaker. Histogram ini memberikan wawasan tentang seberapa sering inning tambahan terjadi dalam dataset.\n",
        "\n",
        "3. over: Histogram menampilkan distribusi jumlah over yang dimainkan dalam pertandingan kriket. Jumlah over yang dimainkan dalam setiap pertandingan dapat bervariasi, tetapi biasanya sekitar 20 over dalam pertandingan Twenty20 (T20) seperti IPL. Histogram ini dapat memberikan pemahaman tentang pola-pola dalam permainan, seperti kapan tim cenderung berakhir di atas atau di bawah target over mereka.\n",
        "\n",
        "4. ball: Histogram menunjukkan sebaran frekuensi jumlah bola yang dimainkan dalam setiap over. Dalam satu over, biasanya dimainkan 6 bola, tetapi dapat terjadi variasi karena berbagai alasan, seperti bola yang dianggap ilegal. Histogram ini memberikan pemahaman tentang bagaimana bola-bola dipilih dalam setiap over.\n",
        "\n",
        "5. batsman_runs: Histogram menampilkan distribusi skor yang dicetak oleh para pemukul dalam setiap bola. Ini memberikan pemahaman tentang seberapa sering pemain mencetak skor tertentu dalam satu bola, yang dapat membantu dalam mengevaluasi performa pemain.\n",
        "\n",
        "6. extra_runs: Histogram menunjukkan distribusi ekstra (penalti) yang diberikan oleh tim bowling dalam setiap bola. Ini termasuk berbagai jenis ekstra seperti wide, no-ball, byes, dan leg-byes. Histogram ini memberikan wawasan tentang seberapa sering ekstra diberikan oleh tim bowling.\n",
        "\n",
        "7. total_runs: Histogram menampilkan distribusi total skor yang dicetak dalam setiap bola, termasuk skor dari pemukul dan ekstra. Ini memberikan gambaran tentang seberapa sering tim berhasil mencetak skor tertentu dalam satu bola.\n",
        "\n",
        "8. non_boundary: Histogram menunjukkan distribusi frekuensi yang tidak termasuk dalam boundary (4 atau 6 runs) dalam setiap bola. Ini dapat memberikan wawasan tentang seberapa sering tim mencetak skor non-boundary dalam satu bola.\n",
        "\n",
        "9. is_wicket: Histogram menampilkan distribusi frekuensi wicket jatuh dalam setiap bola. Ini memberikan pemahaman tentang seberapa sering tim berhasil mencapai wicket dalam satu bola, yang merupakan indikator kunci dalam pertandingan kriket."
      ],
      "metadata": {
        "id": "s90ygAoyV_rC"
      }
    },
    {
      "cell_type": "markdown",
      "source": [
        "##**Verify Data Quality**"
      ],
      "metadata": {
        "id": "BqwrKc6WXFpz"
      }
    },
    {
      "cell_type": "markdown",
      "source": [
        "####Missing Values"
      ],
      "metadata": {
        "id": "JrPhpE3VXTMR"
      }
    },
    {
      "cell_type": "code",
      "source": [
        "data = pd.read_csv('IPL Ball-by-Ball 2008-2020.csv')\n",
        "\n",
        "# Mengecek apakah ada nilai kosong pada setiap kolom\n",
        "missing_values = data.isnull().sum()\n",
        "\n",
        "# Menampilkan jumlah nilai kosong pada tiap kolom\n",
        "print(missing_values)"
      ],
      "metadata": {
        "id": "iq2vTmQJXhuj",
        "colab": {
          "base_uri": "https://localhost:8080/"
        },
        "outputId": "0de64093-94d2-4615-e778-39feb3b90823"
      },
      "execution_count": null,
      "outputs": [
        {
          "output_type": "stream",
          "name": "stdout",
          "text": [
            "id                       0\n",
            "inning                   0\n",
            "over                     0\n",
            "ball                     0\n",
            "batsman                  0\n",
            "non_striker              0\n",
            "bowler                   0\n",
            "batsman_runs             0\n",
            "extra_runs               0\n",
            "total_runs               0\n",
            "non_boundary             0\n",
            "is_wicket                0\n",
            "dismissal_kind      183973\n",
            "player_dismissed    183973\n",
            "fielder             186684\n",
            "extras_type         183235\n",
            "batting_team             0\n",
            "bowling_team           191\n",
            "dtype: int64\n"
          ]
        }
      ]
    },
    {
      "cell_type": "markdown",
      "source": [
        "Untuk kolom 'id', 'inning', 'over', 'ball', 'batsman', 'non_striker', 'bowler', 'batsman_runs', 'extra_runs', 'total_runs', 'non_boundary', dan 'is_wicket', tidak ada nilai yang hilang (missing values), dengan jumlah nilai yang hilang sebesar 0 untuk setiap kolom.\n",
        "\n",
        "Kolom 'dismissal_kind', 'player_dismissed', 'fielder', dan 'extras_type' memiliki jumlah nilai yang hilang yang berbeda-beda. Sebagai contoh, pada kolom 'dismissal_kind', terdapat 183.973 nilai yang hilang, yang menunjukkan bahwa sebagian besar entri dalam kolom tersebut tidak memiliki nilai. Hal yang serupa berlaku untuk kolom 'player_dismissed' dan 'extras_type'.\n",
        "\n",
        "Pada kolom 'bowling_team', terdapat 191 nilai yang hilang. Ini menunjukkan bahwa terdapat beberapa entri dalam kolom tersebut yang tidak memiliki nilai"
      ],
      "metadata": {
        "id": "2qJ5hwEqXoLo"
      }
    },
    {
      "cell_type": "markdown",
      "source": [
        "####Outliers Values"
      ],
      "metadata": {
        "id": "jEeCU-vVXV84"
      }
    },
    {
      "cell_type": "code",
      "source": [
        "\n",
        "# Mendefinisikan fungsi untuk mendeteksi outliers dan menghitung persentase\n",
        "def detect_outliers(column):\n",
        "    # Convert the column to a numeric data type\n",
        "    column = pd.to_numeric(column, errors='coerce')\n",
        "\n",
        "    # Remove NaN values\n",
        "    column = column.dropna()\n",
        "\n",
        "    Q1 = column.quantile(0.25)\n",
        "    Q3 = column.quantile(0.75)\n",
        "    IQR = Q3 - Q1\n",
        "\n",
        "    # Detect outliers\n",
        "    outliers = (column < (Q1 - 1.5 * IQR)) | (column > (Q3 + 1.5 * IQR))\n",
        "\n",
        "    # Calculate the percentage of outliers\n",
        "    percentage_outliers = outliers.sum() / len(column) * 100\n",
        "\n",
        "    return outliers, percentage_outliers\n",
        "\n",
        "\n",
        "# Loop untuk setiap kolom\n",
        "for column in df_file.columns:\n",
        "    outliers, percentage_outliers = detect_outliers(df_file[column])\n",
        "\n",
        "    print(f\"Kolom '{column}':\")\n",
        "    print(f\"  - Jumlah outliers: {outliers.sum()}\")\n",
        "    print(f\"  - Persentase kehadiran outliers: {percentage_outliers:.2f}%\")\n",
        "    print()"
      ],
      "metadata": {
        "id": "HGiqZ6aOX6HY",
        "colab": {
          "base_uri": "https://localhost:8080/"
        },
        "outputId": "5cb680a5-9968-46ec-e142-c436ec724b4b"
      },
      "execution_count": null,
      "outputs": [
        {
          "output_type": "stream",
          "name": "stdout",
          "text": [
            "Kolom 'id':\n",
            "  - Jumlah outliers: 0\n",
            "  - Persentase kehadiran outliers: 0.00%\n",
            "\n",
            "Kolom 'inning':\n",
            "  - Jumlah outliers: 0\n",
            "  - Persentase kehadiran outliers: 0.00%\n",
            "\n",
            "Kolom 'over':\n",
            "  - Jumlah outliers: 0\n",
            "  - Persentase kehadiran outliers: 0.00%\n",
            "\n",
            "Kolom 'ball':\n",
            "  - Jumlah outliers: 0\n",
            "  - Persentase kehadiran outliers: 0.00%\n",
            "\n",
            "Kolom 'batsman':\n",
            "  - Jumlah outliers: 0\n",
            "  - Persentase kehadiran outliers: nan%\n",
            "\n"
          ]
        },
        {
          "output_type": "stream",
          "name": "stderr",
          "text": [
            "<ipython-input-71-e4f8a43a23c6>:17: RuntimeWarning: invalid value encountered in scalar divide\n",
            "  percentage_outliers = outliers.sum() / len(column) * 100\n",
            "<ipython-input-71-e4f8a43a23c6>:17: RuntimeWarning: invalid value encountered in scalar divide\n",
            "  percentage_outliers = outliers.sum() / len(column) * 100\n"
          ]
        },
        {
          "output_type": "stream",
          "name": "stdout",
          "text": [
            "Kolom 'non_striker':\n",
            "  - Jumlah outliers: 0\n",
            "  - Persentase kehadiran outliers: nan%\n",
            "\n",
            "Kolom 'bowler':\n",
            "  - Jumlah outliers: 0\n",
            "  - Persentase kehadiran outliers: nan%\n",
            "\n",
            "Kolom 'batsman_runs':\n",
            "  - Jumlah outliers: 31486\n",
            "  - Persentase kehadiran outliers: 16.27%\n",
            "\n",
            "Kolom 'extra_runs':\n",
            "  - Jumlah outliers: 10233\n",
            "  - Persentase kehadiran outliers: 5.29%\n",
            "\n",
            "Kolom 'total_runs':\n",
            "  - Jumlah outliers: 32203\n",
            "  - Persentase kehadiran outliers: 16.65%\n",
            "\n",
            "Kolom 'non_boundary':\n",
            "  - Jumlah outliers: 16\n",
            "  - Persentase kehadiran outliers: 0.01%\n",
            "\n",
            "Kolom 'is_wicket':\n",
            "  - Jumlah outliers: 9495\n",
            "  - Persentase kehadiran outliers: 4.91%\n",
            "\n"
          ]
        },
        {
          "output_type": "stream",
          "name": "stderr",
          "text": [
            "<ipython-input-71-e4f8a43a23c6>:17: RuntimeWarning: invalid value encountered in scalar divide\n",
            "  percentage_outliers = outliers.sum() / len(column) * 100\n",
            "<ipython-input-71-e4f8a43a23c6>:17: RuntimeWarning: invalid value encountered in scalar divide\n",
            "  percentage_outliers = outliers.sum() / len(column) * 100\n",
            "<ipython-input-71-e4f8a43a23c6>:17: RuntimeWarning: invalid value encountered in scalar divide\n",
            "  percentage_outliers = outliers.sum() / len(column) * 100\n",
            "<ipython-input-71-e4f8a43a23c6>:17: RuntimeWarning: invalid value encountered in scalar divide\n",
            "  percentage_outliers = outliers.sum() / len(column) * 100\n",
            "<ipython-input-71-e4f8a43a23c6>:17: RuntimeWarning: invalid value encountered in scalar divide\n",
            "  percentage_outliers = outliers.sum() / len(column) * 100\n"
          ]
        },
        {
          "output_type": "stream",
          "name": "stdout",
          "text": [
            "Kolom 'dismissal_kind':\n",
            "  - Jumlah outliers: 0\n",
            "  - Persentase kehadiran outliers: nan%\n",
            "\n",
            "Kolom 'player_dismissed':\n",
            "  - Jumlah outliers: 0\n",
            "  - Persentase kehadiran outliers: nan%\n",
            "\n",
            "Kolom 'fielder':\n",
            "  - Jumlah outliers: 0\n",
            "  - Persentase kehadiran outliers: nan%\n",
            "\n",
            "Kolom 'extras_type':\n",
            "  - Jumlah outliers: 0\n",
            "  - Persentase kehadiran outliers: nan%\n",
            "\n",
            "Kolom 'batting_team':\n",
            "  - Jumlah outliers: 0\n",
            "  - Persentase kehadiran outliers: nan%\n",
            "\n",
            "Kolom 'bowling_team':\n",
            "  - Jumlah outliers: 0\n",
            "  - Persentase kehadiran outliers: nan%\n",
            "\n"
          ]
        },
        {
          "output_type": "stream",
          "name": "stderr",
          "text": [
            "<ipython-input-71-e4f8a43a23c6>:17: RuntimeWarning: invalid value encountered in scalar divide\n",
            "  percentage_outliers = outliers.sum() / len(column) * 100\n",
            "<ipython-input-71-e4f8a43a23c6>:17: RuntimeWarning: invalid value encountered in scalar divide\n",
            "  percentage_outliers = outliers.sum() / len(column) * 100\n"
          ]
        }
      ]
    },
    {
      "cell_type": "markdown",
      "source": [
        "Untuk kolom seperti 'id', 'inning', 'over', 'ball', 'batsman', 'non_striker', 'bowler', 'dismissal_kind', 'player_dismissed', 'fielder', 'extras_type', 'batting_team', dan 'bowling_team', jumlah outliers adalah 0. Ini menunjukkan bahwa tidak ada outliers yang terdeteksi dalam kolom-kolom tersebut.\n",
        "\n",
        "Untuk kolom 'batsman_runs', 'extra_runs', 'total_runs', 'is_wicket', dan 'non_boundary', terdapat jumlah outliers tertentu yang ditemukan, serta persentase kehadiran outliers yang dilaporkan. Sebagai contoh, pada kolom 'batsman_runs', ditemukan 31.486 nilai outliers, yang menggambarkan sekitar 16.27% dari total data dalam kolom tersebut.\n",
        "\n",
        "Beberapa kolom mungkin memiliki pesan kesalahan (RuntimeWarning: invalid value encountered in scalar divide). Pesan tersebut muncul karena dalam beberapa kasus, operasi perhitungan persentase outliers melibatkan pembagian dengan nol atau nilai yang tidak valid lainnya, yang dapat menghasilkan nilai NaN (Not a Number)."
      ],
      "metadata": {
        "id": "ggn0R2wCXuSC"
      }
    },
    {
      "cell_type": "markdown",
      "source": [
        "####Duplicated Values"
      ],
      "metadata": {
        "id": "vWjwGwZaXaod"
      }
    },
    {
      "cell_type": "code",
      "source": [
        "duplicated_values = df_file.duplicated()\n",
        "\n",
        "# Menampilkan nilai-nilai yang terduplikat beserta nilai True/False\n",
        "print(\"Nilai-nilai yang terduplikat:\")\n",
        "print(duplicated_values)\n"
      ],
      "metadata": {
        "id": "7wcta1dbX8l3",
        "colab": {
          "base_uri": "https://localhost:8080/"
        },
        "outputId": "7b7584be-c042-4190-ac7e-951053a48cb9"
      },
      "execution_count": null,
      "outputs": [
        {
          "output_type": "stream",
          "name": "stdout",
          "text": [
            "Nilai-nilai yang terduplikat:\n",
            "0         False\n",
            "1         False\n",
            "2         False\n",
            "3         False\n",
            "4         False\n",
            "          ...  \n",
            "193463    False\n",
            "193464    False\n",
            "193465    False\n",
            "193466    False\n",
            "193467    False\n",
            "Length: 193468, dtype: bool\n"
          ]
        }
      ]
    },
    {
      "cell_type": "markdown",
      "source": [
        "pada data di atas memiliki nilai 'False' dalam hasil yang diberikan, itu menunjukkan bahwa baris tersebut tidak merupakan duplikat dari baris sebelumnya dalam DataFrame. Dengan kata lain, baris tersebut unik dan tidak memiliki duplikat di dalam dataset. Ini berarti bahwa data pada baris tersebut adalah data baru atau tidak sama dengan data pada baris lainnya dalam dataset. Dengan memiliki nilai 'False', kita bisa yakin bahwa data pada baris tersebut tidak perlu dihapus atau ditangani khusus terkait duplikasi."
      ],
      "metadata": {
        "id": "VKTUrMJAX0fv"
      }
    },
    {
      "cell_type": "markdown",
      "source": [
        "####Inconsistent Values / Noise (Optional)"
      ],
      "metadata": {
        "id": "q0_lULWDX-y6"
      }
    },
    {
      "cell_type": "code",
      "source": [
        "#Tambahkan kode untuk mengecek apakah ada nilai inkosisten/noise pada tiap kolom di dataset kalian ya (OPSIONAL)"
      ],
      "metadata": {
        "id": "cnvHMqE3YawE"
      },
      "execution_count": null,
      "outputs": []
    },
    {
      "cell_type": "markdown",
      "source": [
        "Jangan lupa juga untuk berikan penjelasan di sini (OPSIONAL)"
      ],
      "metadata": {
        "id": "zN9xijkWYhq2"
      }
    }
  ]
}